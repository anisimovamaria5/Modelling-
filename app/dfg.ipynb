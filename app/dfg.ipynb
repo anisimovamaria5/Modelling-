{
 "cells": [
  {
   "cell_type": "code",
   "execution_count": 1,
   "id": "82229e67",
   "metadata": {},
   "outputs": [],
   "source": [
    "import autograd.numpy as np\n",
    "from autograd import grad"
   ]
  },
  {
   "cell_type": "code",
   "execution_count": 8,
   "metadata": {},
   "outputs": [
    {
     "name": "stdout",
     "output_type": "stream",
     "text": [
      "7.0\n",
      "5.0\n",
      "5.0\n"
     ]
    }
   ],
   "source": [
    "def f(x, y):\n",
    "    return x**2 + y**3 + x*y\n",
    "\n",
    "df_dx = grad(f, argnum=0)\n",
    "df_dy = grad(f, argnum=1)\n",
    "\n",
    "x, y = 2.0, 1.0\n",
    "\n",
    "print(f(x, y))\n",
    "print(df_dx(x, y))\n",
    "print(df_dy(x, y))\n"
   ]
  },
  {
   "cell_type": "code",
   "execution_count": null,
   "id": "30ebfa2c",
   "metadata": {},
   "outputs": [
    {
     "data": {
      "text/plain": [
       "1.4285476169951292"
      ]
     },
     "execution_count": 9,
     "metadata": {},
     "output_type": "execute_result"
    }
   ],
   "source": [
    "def loss(w, x, y_true):\n",
    "    y_pred = w*x\n",
    "    return np.mean((y_pred - y_true)**2)\n",
    "\n",
    "grad_loss = grad(loss)\n",
    "\n",
    "x = np.array([1.0, 2.0, 3.0])\n",
    "y_true = np.array([2.0, 3.0, 4.0])\n",
    "w = 1.0\n",
    "\n",
    "learning_rate = 0.01\n",
    "for _ in range(100):\n",
    "    w -= learning_rate * grad_loss(w, x, y_true)\n",
    "w"
   ]
  }
 ],
 "metadata": {
  "kernelspec": {
   "display_name": "myenv",
   "language": "python",
   "name": "python3"
  },
  "language_info": {
   "codemirror_mode": {
    "name": "ipython",
    "version": 3
   },
   "file_extension": ".py",
   "mimetype": "text/x-python",
   "name": "python",
   "nbconvert_exporter": "python",
   "pygments_lexer": "ipython3",
   "version": "3.10.5"
  }
 },
 "nbformat": 4,
 "nbformat_minor": 5
}
